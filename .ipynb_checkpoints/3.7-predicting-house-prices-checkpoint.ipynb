{
 "cells": [
  {
   "cell_type": "code",
   "execution_count": 1,
   "metadata": {},
   "outputs": [
    {
     "name": "stderr",
     "output_type": "stream",
     "text": [
      "Using TensorFlow backend.\n"
     ]
    },
    {
     "data": {
      "text/plain": [
       "'2.3.1'"
      ]
     },
     "execution_count": 1,
     "metadata": {},
     "output_type": "execute_result"
    }
   ],
   "source": [
    "import keras\n",
    "keras.__version__"
   ]
  },
  {
   "cell_type": "markdown",
   "metadata": {},
   "source": [
    "# Predicting house prices: a regression example\n",
    "\n",
    "This notebook contains the code samples found in Chapter 3, Section 6 of [Deep Learning with Python](https://www.manning.com/books/deep-learning-with-python?a_aid=keras&a_bid=76564dff). Note that the original text features far more content, in particular further explanations and figures: in this notebook, you will only find source code and related comments.\n",
    "\n",
    "----\n",
    "\n",
    "\n",
    "In our two previous examples, we were considering classification problems, where the goal was to predict a single discrete label of an \n",
    "input data point. Another common type of machine learning problem is \"regression\", which consists of predicting a continuous value instead \n",
    "of a discrete label. For instance, predicting the temperature tomorrow, given meteorological data, or predicting the time that a \n",
    "software project will take to complete, given its specifications.\n",
    "\n",
    "Do not mix up \"regression\" with the algorithm \"logistic regression\": confusingly, \"logistic regression\" is not a regression algorithm, \n",
    "it is a classification algorithm."
   ]
  },
  {
   "cell_type": "markdown",
   "metadata": {},
   "source": [
    "## The Boston Housing Price dataset\n",
    "\n",
    "\n",
    "We will be attempting to predict the median price of homes in a given Boston suburb in the mid-1970s, given a few data points about the \n",
    "suburb at the time, such as the crime rate, the local property tax rate, etc.\n",
    "\n",
    "The dataset we will be using has another interesting difference from our two previous examples: it has very few data points, only 506 in \n",
    "total, split between 404 training samples and 102 test samples, and each \"feature\" in the input data (e.g. the crime rate is a feature) has \n",
    "a different scale. For instance some values are proportions, which take a values between 0 and 1, others take values between 1 and 12, \n",
    "others between 0 and 100...\n",
    "\n",
    "Let's take a look at the data:"
   ]
  },
  {
   "cell_type": "code",
   "execution_count": 2,
   "metadata": {},
   "outputs": [],
   "source": [
    "from keras.datasets import boston_housing\n",
    "\n",
    "(train_data, train_targets), (test_data, test_targets) =  boston_housing.load_data()"
   ]
  },
  {
   "cell_type": "code",
   "execution_count": 3,
   "metadata": {},
   "outputs": [
    {
     "data": {
      "text/plain": [
       "(404, 13)"
      ]
     },
     "execution_count": 3,
     "metadata": {},
     "output_type": "execute_result"
    }
   ],
   "source": [
    "train_data.shape"
   ]
  },
  {
   "cell_type": "code",
   "execution_count": 4,
   "metadata": {},
   "outputs": [
    {
     "data": {
      "text/plain": [
       "(102, 13)"
      ]
     },
     "execution_count": 4,
     "metadata": {},
     "output_type": "execute_result"
    }
   ],
   "source": [
    "test_data.shape"
   ]
  },
  {
   "cell_type": "code",
   "execution_count": 5,
   "metadata": {},
   "outputs": [
    {
     "data": {
      "text/plain": [
       "array([  1.23247,   0.     ,   8.14   ,   0.     ,   0.538  ,   6.142  ,\n",
       "        91.7    ,   3.9769 ,   4.     , 307.     ,  21.     , 396.9    ,\n",
       "        18.72   ])"
      ]
     },
     "execution_count": 5,
     "metadata": {},
     "output_type": "execute_result"
    }
   ],
   "source": [
    "train_data[0]"
   ]
  },
  {
   "cell_type": "markdown",
   "metadata": {},
   "source": [
    "\n",
    "As you can see, we have 404 training samples and 102 test samples. The data comprises 13 features. The 13 features in the input data are as \n",
    "follow:\n",
    "\n",
    "1. Per capita crime rate.\n",
    "2. Proportion of residential land zoned for lots over 25,000 square feet.\n",
    "3. Proportion of non-retail business acres per town.\n",
    "4. Charles River dummy variable (= 1 if tract bounds river; 0 otherwise).\n",
    "5. Nitric oxides concentration (parts per 10 million).\n",
    "6. Average number of rooms per dwelling.\n",
    "7. Proportion of owner-occupied units built prior to 1940.\n",
    "8. Weighted distances to five Boston employment centres.\n",
    "9. Index of accessibility to radial highways.\n",
    "10. Full-value property-tax rate per $10,000.\n",
    "11. Pupil-teacher ratio by town.\n",
    "12. 1000 * (Bk - 0.63) ** 2 where Bk is the proportion of Black people by town.\n",
    "13. % lower status of the population.\n",
    "\n",
    "The targets are the median values of owner-occupied homes, in thousands of dollars:"
   ]
  },
  {
   "cell_type": "code",
   "execution_count": 6,
   "metadata": {},
   "outputs": [
    {
     "data": {
      "text/plain": [
       "array([15.2, 42.3, 50. , 21.1, 17.7, 18.5, 11.3, 15.6, 15.6, 14.4])"
      ]
     },
     "execution_count": 6,
     "metadata": {},
     "output_type": "execute_result"
    }
   ],
   "source": [
    "train_targets[:10]"
   ]
  },
  {
   "cell_type": "markdown",
   "metadata": {},
   "source": [
    "\n",
    "The prices are typically between \\$10,000 and \\$50,000. If that sounds cheap, remember this was the mid-1970s, and these prices are not \n",
    "inflation-adjusted."
   ]
  },
  {
   "cell_type": "markdown",
   "metadata": {},
   "source": [
    "## Preparing the data\n",
    "\n",
    "\n",
    "It would be problematic to feed into a neural network values that all take wildly different ranges. The network might be able to \n",
    "automatically adapt to such heterogeneous data, but it would definitely make learning more difficult. A widespread best practice to deal \n",
    "with such data is to do feature-wise normalization: for each feature in the input data (a column in the input data matrix), we \n",
    "will subtract the mean of the feature and divide by the standard deviation, so that the feature will be centered around 0 and will have a \n",
    "unit standard deviation. This is easily done in Numpy:"
   ]
  },
  {
   "cell_type": "code",
   "execution_count": 7,
   "metadata": {},
   "outputs": [],
   "source": [
    "mean = train_data.mean(axis=0)\n",
    "train_data -= mean\n",
    "std = train_data.std(axis=0)\n",
    "train_data /= std\n",
    "\n",
    "test_data -= mean\n",
    "test_data /= std"
   ]
  },
  {
   "cell_type": "code",
   "execution_count": 8,
   "metadata": {},
   "outputs": [
    {
     "data": {
      "text/plain": [
       "array([3.74511057e+00, 1.14801980e+01, 1.11044307e+01, 6.18811881e-02,\n",
       "       5.57355941e-01, 6.26708168e+00, 6.90106436e+01, 3.74027079e+00,\n",
       "       9.44059406e+00, 4.05898515e+02, 1.84759901e+01, 3.54783168e+02,\n",
       "       1.27408168e+01])"
      ]
     },
     "execution_count": 8,
     "metadata": {},
     "output_type": "execute_result"
    }
   ],
   "source": [
    "mean"
   ]
  },
  {
   "cell_type": "markdown",
   "metadata": {},
   "source": [
    "\n",
    "Note that the quantities that we use for normalizing the test data have been computed using the training data. We should never use in our \n",
    "workflow any quantity computed on the test data, even for something as simple as data normalization."
   ]
  },
  {
   "cell_type": "markdown",
   "metadata": {},
   "source": [
    "## Building our network\n",
    "\n",
    "\n",
    "Because so few samples are available, we will be using a very small network with two \n",
    "hidden layers, each with 64 units. In general, the less training data you have, the worse overfitting will be, and using \n",
    "a small network is one way to mitigate overfitting."
   ]
  },
  {
   "cell_type": "code",
   "execution_count": 9,
   "metadata": {},
   "outputs": [],
   "source": [
    "from keras import models\n",
    "from keras import layers\n",
    "\n",
    "def build_model():\n",
    "    # Because we will need to instantiate\n",
    "    # the same model multiple times,\n",
    "    # we use a function to construct it.\n",
    "    model = models.Sequential()\n",
    "    model.add(layers.Dense(64, activation='relu',\n",
    "                           input_shape=(train_data.shape[1],)))\n",
    "    model.add(layers.Dense(64, activation='relu'))\n",
    "    model.add(layers.Dense(1))\n",
    "    model.compile(optimizer='rmsprop', loss='mse', metrics=['mae'])\n",
    "    return model"
   ]
  },
  {
   "cell_type": "markdown",
   "metadata": {},
   "source": [
    "\n",
    "Our network ends with a single unit, and no activation (i.e. it will be linear layer). \n",
    "This is a typical setup for scalar regression (i.e. regression where we are trying to predict a single continuous value). \n",
    "Applying an activation function would constrain the range that the output can take; for instance if \n",
    "we applied a `sigmoid` activation function to our last layer, the network could only learn to predict values between 0 and 1. Here, because \n",
    "the last layer is purely linear, the network is free to learn to predict values in any range.\n",
    "\n",
    "Note that we are compiling the network with the `mse` loss function -- Mean Squared Error, the square of the difference between the \n",
    "predictions and the targets, a widely used loss function for regression problems.\n",
    "\n",
    "We are also monitoring a new metric during training: `mae`. This stands for Mean Absolute Error. It is simply the absolute value of the \n",
    "difference between the predictions and the targets. For instance, a MAE of 0.5 on this problem would mean that our predictions are off by \n",
    "\\$500 on average."
   ]
  },
  {
   "cell_type": "markdown",
   "metadata": {},
   "source": [
    "## Validating our approach using K-fold validation\n",
    "\n",
    "\n",
    "To evaluate our network while we keep adjusting its parameters (such as the number of epochs used for training), we could simply split the \n",
    "data into a training set and a validation set, as we were doing in our previous examples. However, because we have so few data points, the \n",
    "validation set would end up being very small (e.g. about 100 examples). A consequence is that our validation scores may change a lot \n",
    "depending on _which_ data points we choose to use for validation and which we choose for training, i.e. the validation scores may have a \n",
    "high _variance_ with regard to the validation split. This would prevent us from reliably evaluating our model.\n",
    "\n",
    "The best practice in such situations is to use K-fold cross-validation. It consists of splitting the available data into K partitions \n",
    "(typically K=4 or 5), then instantiating K identical models, and training each one on K-1 partitions while evaluating on the remaining \n",
    "partition. The validation score for the model used would then be the average of the K validation scores obtained."
   ]
  },
  {
   "cell_type": "markdown",
   "metadata": {},
   "source": [
    "In terms of code, this is straightforward:"
   ]
  },
  {
   "cell_type": "code",
   "execution_count": 15,
   "metadata": {},
   "outputs": [
    {
     "name": "stdout",
     "output_type": "stream",
     "text": [
      "processing fold # 0\n",
      "processing fold # 1\n"
     ]
    }
   ],
   "source": [
    "import numpy as np\n",
    "\n",
    "k = 2\n",
    "num_val_samples = len(train_data) // k\n",
    "num_epochs = 100\n",
    "all_scores = []\n",
    "for i in range(k):\n",
    "    print('processing fold #', i)\n",
    "    # Prepare the validation data: data from partition # k\n",
    "    val_data = train_data[i * num_val_samples: (i + 1) * num_val_samples]\n",
    "    val_targets = train_targets[i * num_val_samples: (i + 1) * num_val_samples]\n",
    "\n",
    "    # Prepare the training data: data from all other partitions\n",
    "    partial_train_data = np.concatenate(\n",
    "        [train_data[:i * num_val_samples],\n",
    "         train_data[(i + 1) * num_val_samples:]],\n",
    "        axis=0)\n",
    "    partial_train_targets = np.concatenate(\n",
    "        [train_targets[:i * num_val_samples],\n",
    "         train_targets[(i + 1) * num_val_samples:]],\n",
    "        axis=0)\n",
    "\n",
    "    # Build the Keras model (already compiled)\n",
    "    model = build_model()\n",
    "    # Train the model (in silent mode, verbose=0)\n",
    "    model.fit(partial_train_data, partial_train_targets,\n",
    "              epochs=num_epochs, batch_size=1, verbose=0)\n",
    "    # Evaluate the model on the validation data\n",
    "    val_mse, val_mae = model.evaluate(val_data, val_targets, verbose=0)\n",
    "    all_scores.append(val_mae)"
   ]
  },
  {
   "cell_type": "code",
   "execution_count": 16,
   "metadata": {},
   "outputs": [
    {
     "data": {
      "text/plain": [
       "[2.6204981803894043, 2.8967056274414062]"
      ]
     },
     "execution_count": 16,
     "metadata": {},
     "output_type": "execute_result"
    }
   ],
   "source": [
    "all_scores"
   ]
  },
  {
   "cell_type": "code",
   "execution_count": 17,
   "metadata": {},
   "outputs": [
    {
     "data": {
      "text/plain": [
       "2.7586019039154053"
      ]
     },
     "execution_count": 17,
     "metadata": {},
     "output_type": "execute_result"
    }
   ],
   "source": [
    "np.mean(all_scores)"
   ]
  },
  {
   "cell_type": "markdown",
   "metadata": {},
   "source": [
    "\n",
    "As you can notice, the different runs do indeed show rather different validation scores, from 2.1 to 2.9. Their average (2.4) is a much more \n",
    "reliable metric than any single of these scores -- that's the entire point of K-fold cross-validation. In this case, we are off by \\$2,400 on \n",
    "average, which is still significant considering that the prices range from \\$10,000 to \\$50,000. \n",
    "\n",
    "Let's try training the network for a bit longer: 500 epochs. To keep a record of how well the model did at each epoch, we will modify our training loop \n",
    "to save the per-epoch validation score log:"
   ]
  },
  {
   "cell_type": "code",
   "execution_count": 18,
   "metadata": {},
   "outputs": [
    {
     "name": "stdout",
     "output_type": "stream",
     "text": [
      "CPU times: user 4.8 ms, sys: 87 µs, total: 4.89 ms\n",
      "Wall time: 3.91 ms\n"
     ]
    }
   ],
   "source": [
    "%%time\n",
    "from keras import backend as K\n",
    "\n",
    "# Some memory clean-up\n",
    "K.clear_session()"
   ]
  },
  {
   "cell_type": "code",
   "execution_count": 23,
   "metadata": {},
   "outputs": [
    {
     "name": "stdout",
     "output_type": "stream",
     "text": [
      "processing fold # 0\n",
      "processing fold # 1\n"
     ]
    }
   ],
   "source": [
    "#%%time\n",
    "\n",
    "import numpy as np\n",
    "\n",
    "num_epochs = 500\n",
    "all_mae_histories = []\n",
    "k = 2\n",
    "num_val_samples = len(train_data) // k\n",
    "\n",
    "for i in range(k):\n",
    "    print('processing fold #', i)\n",
    "    # Prepare the validation data: data from partition # k\n",
    "    val_data = train_data[i * num_val_samples: (i + 1) * num_val_samples]\n",
    "    val_targets = train_targets[i * num_val_samples: (i + 1) * num_val_samples]\n",
    "\n",
    "    # Prepare the training data: data from all other partitions\n",
    "    partial_train_data = np.concatenate(\n",
    "        [train_data[:i * num_val_samples],\n",
    "         train_data[(i + 1) * num_val_samples:]],\n",
    "        axis=0)\n",
    "    partial_train_targets = np.concatenate(\n",
    "        [train_targets[:i * num_val_samples],\n",
    "         train_targets[(i + 1) * num_val_samples:]],\n",
    "        axis=0)\n",
    "\n",
    "    # Build the Keras model (already compiled)\n",
    "    model = build_model()\n",
    "    # Train the model (in silent mode, verbose=0)\n",
    "    history = model.fit(partial_train_data, partial_train_targets,\n",
    "                        validation_data=(val_data, val_targets),\n",
    "                        epochs=num_epochs, batch_size=1, verbose=0)\n",
    "    mae_history = history.history['val_mae']\n",
    "    all_mae_histories.append(mae_history)"
   ]
  },
  {
   "cell_type": "code",
   "execution_count": 35,
   "metadata": {},
   "outputs": [
    {
     "data": {
      "text/plain": [
       "dict_keys(['val_loss', 'val_mae', 'loss', 'mae'])"
      ]
     },
     "execution_count": 35,
     "metadata": {},
     "output_type": "execute_result"
    }
   ],
   "source": [
    " history.history.keys()"
   ]
  },
  {
   "cell_type": "markdown",
   "metadata": {},
   "source": [
    "We can then compute the average of the per-epoch MAE scores for all folds:"
   ]
  },
  {
   "cell_type": "code",
   "execution_count": 41,
   "metadata": {},
   "outputs": [
    {
     "data": {
      "text/plain": [
       "[5.795896530151367,\n",
       " 3.979454278945923,\n",
       " 3.828615427017212,\n",
       " 3.3926186561584473,\n",
       " 3.177866578102112,\n",
       " 3.2061290740966797,\n",
       " 2.9781423807144165,\n",
       " 2.8896749019622803,\n",
       " 2.7367318868637085,\n",
       " 2.671679973602295,\n",
       " 2.595924496650696,\n",
       " 2.6992262601852417,\n",
       " 2.6447571516036987,\n",
       " 2.6061044931411743,\n",
       " 2.584648847579956,\n",
       " 2.64955735206604,\n",
       " 2.644240975379944,\n",
       " 2.561566948890686,\n",
       " 2.596059560775757,\n",
       " 2.6078152656555176,\n",
       " 2.5510928630828857,\n",
       " 2.4470419883728027,\n",
       " 2.647854208946228,\n",
       " 2.6251221895217896,\n",
       " 2.649565577507019,\n",
       " 2.516974449157715,\n",
       " 2.5501997470855713,\n",
       " 2.760730504989624,\n",
       " 2.5698074102401733,\n",
       " 2.519883155822754,\n",
       " 2.7487677335739136,\n",
       " 2.675951838493347,\n",
       " 2.5918859243392944,\n",
       " 2.436885952949524,\n",
       " 2.821195363998413,\n",
       " 2.5098999738693237,\n",
       " 2.4991074800491333,\n",
       " 2.570359230041504,\n",
       " 2.4966379404067993,\n",
       " 2.5711634159088135,\n",
       " 2.561569094657898,\n",
       " 2.9750367403030396,\n",
       " 2.5818384885787964,\n",
       " 2.652882933616638,\n",
       " 2.625447154045105,\n",
       " 2.7378050088882446,\n",
       " 2.5300244092941284,\n",
       " 2.8931933641433716,\n",
       " 2.7381880283355713,\n",
       " 2.579140305519104,\n",
       " 2.5531662702560425,\n",
       " 2.72078013420105,\n",
       " 2.580084204673767,\n",
       " 2.5769593715667725,\n",
       " 2.660901188850403,\n",
       " 2.6390814781188965,\n",
       " 2.6374330520629883,\n",
       " 2.5812854766845703,\n",
       " 2.713621139526367,\n",
       " 2.6793676614761353,\n",
       " 2.813336133956909,\n",
       " 2.7396966218948364,\n",
       " 2.6279629468917847,\n",
       " 2.6063133478164673,\n",
       " 2.7498233318328857,\n",
       " 2.7498061656951904,\n",
       " 2.7704572677612305,\n",
       " 2.8062334060668945,\n",
       " 2.7068660259246826,\n",
       " 2.7732728719711304,\n",
       " 2.722707748413086,\n",
       " 2.6894242763519287,\n",
       " 2.6619796752929688,\n",
       " 2.882619619369507,\n",
       " 2.7156834602355957,\n",
       " 2.7521374225616455,\n",
       " 2.9948384761810303,\n",
       " 2.782962203025818,\n",
       " 2.6736817359924316,\n",
       " 2.690218448638916,\n",
       " 2.821499466896057,\n",
       " 2.6419529914855957,\n",
       " 3.118687868118286,\n",
       " 3.088816285133362,\n",
       " 2.6996724605560303,\n",
       " 2.8414615392684937,\n",
       " 2.8384112119674683,\n",
       " 2.751439094543457,\n",
       " 2.680699110031128,\n",
       " 2.7919652462005615,\n",
       " 3.0173882246017456,\n",
       " 2.9226280450820923,\n",
       " 2.8341294527053833,\n",
       " 2.7281644344329834,\n",
       " 2.7397350072860718,\n",
       " 2.893882989883423,\n",
       " 2.78862726688385,\n",
       " 2.730417251586914,\n",
       " 2.7608131170272827,\n",
       " 2.8186919689178467,\n",
       " 2.793406128883362,\n",
       " 2.9040157794952393,\n",
       " 2.910035490989685,\n",
       " 2.839228630065918,\n",
       " 2.76731276512146,\n",
       " 2.7695170640945435,\n",
       " 2.8205169439315796,\n",
       " 2.866803526878357,\n",
       " 2.7733529806137085,\n",
       " 2.682690739631653,\n",
       " 3.0172730684280396,\n",
       " 2.7647452354431152,\n",
       " 2.8783026933670044,\n",
       " 2.8797237873077393,\n",
       " 2.8846800327301025,\n",
       " 2.7498496770858765,\n",
       " 2.817439317703247,\n",
       " 2.7898271083831787,\n",
       " 2.883542060852051,\n",
       " 2.848724842071533,\n",
       " 3.2185693979263306,\n",
       " 2.7976577281951904,\n",
       " 2.7866920232772827,\n",
       " 2.9326809644699097,\n",
       " 2.9149633646011353,\n",
       " 2.885781407356262,\n",
       " 2.8562910556793213,\n",
       " 2.862296223640442,\n",
       " 2.9134957790374756,\n",
       " 2.9404561519622803,\n",
       " 2.8839253187179565,\n",
       " 2.907176375389099,\n",
       " 3.081216812133789,\n",
       " 2.9897968769073486,\n",
       " 2.8845648765563965,\n",
       " 3.08461332321167,\n",
       " 2.93950617313385,\n",
       " 2.981728434562683,\n",
       " 3.061151146888733,\n",
       " 2.925269365310669,\n",
       " 2.941238760948181,\n",
       " 2.8791133165359497,\n",
       " 2.934878349304199,\n",
       " 3.15069317817688,\n",
       " 2.9155222177505493,\n",
       " 2.977765202522278,\n",
       " 3.052487373352051,\n",
       " 3.0575437545776367,\n",
       " 3.092285394668579,\n",
       " 3.045374631881714,\n",
       " 3.135634422302246,\n",
       " 3.055900812149048,\n",
       " 3.0898494720458984,\n",
       " 3.1475898027420044,\n",
       " 3.0289182662963867,\n",
       " 3.060479998588562,\n",
       " 3.0970675945281982,\n",
       " 2.949869751930237,\n",
       " 3.0115206241607666,\n",
       " 2.954441547393799,\n",
       " 3.1610114574432373,\n",
       " 3.120806336402893,\n",
       " 3.2462793588638306,\n",
       " 3.0618040561676025,\n",
       " 2.9986038208007812,\n",
       " 3.0649229288101196,\n",
       " 3.2494678497314453,\n",
       " 3.0753440856933594,\n",
       " 3.058589458465576,\n",
       " 2.992095708847046,\n",
       " 3.047385573387146,\n",
       " 3.0633087158203125,\n",
       " 3.2832473516464233,\n",
       " 2.9882456064224243,\n",
       " 3.1049996614456177,\n",
       " 3.0682801008224487,\n",
       " 2.959812045097351,\n",
       " 3.029750347137451,\n",
       " 2.9833441972732544,\n",
       " 3.0627700090408325,\n",
       " 3.1932910680770874,\n",
       " 3.0530389547348022,\n",
       " 2.9480042457580566,\n",
       " 3.025985598564148,\n",
       " 2.988814949989319,\n",
       " 3.0682770013809204,\n",
       " 3.1740680932998657,\n",
       " 3.0763814449310303,\n",
       " 3.1224669218063354,\n",
       " 3.258324384689331,\n",
       " 3.322609782218933,\n",
       " 3.062604069709778,\n",
       " 3.1489897966384888,\n",
       " 3.1517693996429443,\n",
       " 3.311369299888611,\n",
       " 3.093870759010315,\n",
       " 3.1088004112243652,\n",
       " 2.9434956312179565,\n",
       " 3.23061740398407,\n",
       " 3.1724636554718018,\n",
       " 3.098971128463745,\n",
       " 3.197476863861084,\n",
       " 3.0818363428115845,\n",
       " 2.930509328842163,\n",
       " 3.100816249847412,\n",
       " 3.1001516580581665,\n",
       " 3.1347967386245728,\n",
       " 3.029734492301941,\n",
       " 3.079080104827881,\n",
       " 3.159380078315735,\n",
       " 3.0673716068267822,\n",
       " 3.090367078781128,\n",
       " 3.1054458618164062,\n",
       " 3.1006550788879395,\n",
       " 3.1325918436050415,\n",
       " 3.031782031059265,\n",
       " 3.173251152038574,\n",
       " 2.9867671728134155,\n",
       " 2.9898836612701416,\n",
       " 3.3273067474365234,\n",
       " 3.2060269117355347,\n",
       " 3.103078603744507,\n",
       " 3.1274088621139526,\n",
       " 3.010285496711731,\n",
       " 3.163007616996765,\n",
       " 3.187757968902588,\n",
       " 3.2615065574645996,\n",
       " 3.009421229362488,\n",
       " 3.1289037466049194,\n",
       " 3.007698893547058,\n",
       " 3.2139545679092407,\n",
       " 3.3689489364624023,\n",
       " 3.034675359725952,\n",
       " 3.052206873893738,\n",
       " 3.057197690010071,\n",
       " 2.9524192810058594,\n",
       " 3.109335422515869,\n",
       " 3.1884357929229736,\n",
       " 3.0734814405441284,\n",
       " 3.127520203590393,\n",
       " 2.9879822731018066,\n",
       " 3.2893834114074707,\n",
       " 3.0769236087799072,\n",
       " 3.1344112157821655,\n",
       " 3.0424681901931763,\n",
       " 3.173338532447815,\n",
       " 3.1578441858291626,\n",
       " 3.077712297439575,\n",
       " 3.0208499431610107,\n",
       " 3.1811517477035522,\n",
       " 3.056819200515747,\n",
       " 3.2165791988372803,\n",
       " 3.1261751651763916,\n",
       " 3.0308847427368164,\n",
       " 3.046108365058899,\n",
       " 3.152392864227295,\n",
       " 3.052653193473816,\n",
       " 3.36991810798645,\n",
       " 3.1387537717819214,\n",
       " 3.267384171485901,\n",
       " 3.0684491395950317,\n",
       " 3.278070569038391,\n",
       " 3.0520941019058228,\n",
       " 3.0387990474700928,\n",
       " 3.054605007171631,\n",
       " 3.1684608459472656,\n",
       " 3.136897563934326,\n",
       " 3.0721946954727173,\n",
       " 3.1114048957824707,\n",
       " 3.2743462324142456,\n",
       " 3.0958104133605957,\n",
       " 3.493676543235779,\n",
       " 3.239309072494507,\n",
       " 3.0067778825759888,\n",
       " 3.1374940872192383,\n",
       " 3.046094059944153,\n",
       " 3.0582576990127563,\n",
       " 3.091448426246643,\n",
       " 3.2250369787216187,\n",
       " 3.0807961225509644,\n",
       " 3.081403613090515,\n",
       " 3.143125891685486,\n",
       " 3.0612210035324097,\n",
       " 3.359581470489502,\n",
       " 3.1769235134124756,\n",
       " 3.0875784158706665,\n",
       " 3.179179072380066,\n",
       " 3.2158663272857666,\n",
       " 3.2816773653030396,\n",
       " 3.1200289726257324,\n",
       " 3.199411630630493,\n",
       " 3.1131248474121094,\n",
       " 3.12922739982605,\n",
       " 3.2876445055007935,\n",
       " 3.081204891204834,\n",
       " 3.0606579780578613,\n",
       " 3.1746708154678345,\n",
       " 3.426612138748169,\n",
       " 3.0893654823303223,\n",
       " 3.143051505088806,\n",
       " 2.977754831314087,\n",
       " 3.090560793876648,\n",
       " 3.0421091318130493,\n",
       " 3.16720974445343,\n",
       " 3.215335249900818,\n",
       " 3.138365149497986,\n",
       " 3.1758005619049072,\n",
       " 3.122902512550354,\n",
       " 3.1210386753082275,\n",
       " 3.0800797939300537,\n",
       " 3.035242795944214,\n",
       " 3.1310797929763794,\n",
       " 3.0826375484466553,\n",
       " 3.0383358001708984,\n",
       " 3.1610368490219116,\n",
       " 3.1746327877044678,\n",
       " 3.01652455329895,\n",
       " 3.1701858043670654,\n",
       " 3.1164177656173706,\n",
       " 3.0939829349517822,\n",
       " 3.1121304035186768,\n",
       " 3.1567230224609375,\n",
       " 3.080790400505066,\n",
       " 3.1350865364074707,\n",
       " 3.1297214031219482,\n",
       " 3.0570638179779053,\n",
       " 3.1048266887664795,\n",
       " 3.046481966972351,\n",
       " 3.15095055103302,\n",
       " 3.070926308631897,\n",
       " 3.171195387840271,\n",
       " 3.103240132331848,\n",
       " 3.066561460494995,\n",
       " 3.0273243188858032,\n",
       " 3.066786050796509,\n",
       " 3.0219513177871704,\n",
       " 3.108302593231201,\n",
       " 3.204226016998291,\n",
       " 3.0932421684265137,\n",
       " 3.046995162963867,\n",
       " 3.252654552459717,\n",
       " 3.070457339286804,\n",
       " 3.1775848865509033,\n",
       " 3.1020443439483643,\n",
       " 3.0515514612197876,\n",
       " 2.9978480339050293,\n",
       " 2.982699990272522,\n",
       " 3.081665515899658,\n",
       " 3.1351499557495117,\n",
       " 2.975011110305786,\n",
       " 3.1353087425231934,\n",
       " 3.2543970346450806,\n",
       " 3.160555839538574,\n",
       " 3.023653745651245,\n",
       " 3.0738080739974976,\n",
       " 3.1921515464782715,\n",
       " 3.0766754150390625,\n",
       " 3.0768426656723022,\n",
       " 3.1333630084991455,\n",
       " 3.036285161972046,\n",
       " 3.0762211084365845,\n",
       " 3.1256155967712402,\n",
       " 3.0643187761306763,\n",
       " 3.2819743156433105,\n",
       " 3.2032419443130493,\n",
       " 3.031760096549988,\n",
       " 3.0518559217453003,\n",
       " 2.994968295097351,\n",
       " 3.0691736936569214,\n",
       " 2.9927496910095215,\n",
       " 3.048672676086426,\n",
       " 3.0693334341049194,\n",
       " 3.086372137069702,\n",
       " 3.1453425884246826,\n",
       " 3.080303907394409,\n",
       " 3.2187711000442505,\n",
       " 3.063192129135132,\n",
       " 3.138677477836609,\n",
       " 3.0806673765182495,\n",
       " 3.055418610572815,\n",
       " 3.0758461952209473,\n",
       " 3.0339136123657227,\n",
       " 3.162763237953186,\n",
       " 3.013020396232605,\n",
       " 3.1105986833572388,\n",
       " 3.1935330629348755,\n",
       " 3.145079255104065,\n",
       " 3.050976872444153,\n",
       " 3.130528211593628,\n",
       " 3.051618456840515,\n",
       " 3.208241105079651,\n",
       " 2.9440460205078125,\n",
       " 3.0666215419769287,\n",
       " 3.0407601594924927,\n",
       " 2.91328227519989,\n",
       " 2.985673189163208,\n",
       " 3.2003333568573,\n",
       " 3.05301034450531,\n",
       " 3.0081294775009155,\n",
       " 3.0820024013519287,\n",
       " 3.140816569328308,\n",
       " 3.029845714569092,\n",
       " 3.080543875694275,\n",
       " 3.0926235914230347,\n",
       " 2.9929819107055664,\n",
       " 3.0996358394622803,\n",
       " 2.9962029457092285,\n",
       " 3.046397089958191,\n",
       " 3.0193456411361694,\n",
       " 3.080018639564514,\n",
       " 3.084432601928711,\n",
       " 3.156926155090332,\n",
       " 2.9785667657852173,\n",
       " 3.1201364994049072,\n",
       " 3.1934032440185547,\n",
       " 3.026293992996216,\n",
       " 3.001182198524475,\n",
       " 3.0494747161865234,\n",
       " 3.1402617692947388,\n",
       " 2.996414303779602,\n",
       " 3.0244511365890503,\n",
       " 2.9465622901916504,\n",
       " 3.005872130393982,\n",
       " 3.1287444829940796,\n",
       " 3.052071690559387,\n",
       " 3.031266689300537,\n",
       " 2.989535689353943,\n",
       " 3.084662437438965,\n",
       " 2.9411072731018066,\n",
       " 3.1359400749206543,\n",
       " 3.135304093360901,\n",
       " 3.0653302669525146,\n",
       " 3.075422763824463,\n",
       " 3.0765472650527954,\n",
       " 2.9768866300582886,\n",
       " 3.1097190380096436,\n",
       " 3.1251899003982544,\n",
       " 2.9619853496551514,\n",
       " 3.130041480064392,\n",
       " 3.035935640335083,\n",
       " 2.9979236125946045,\n",
       " 3.113969564437866,\n",
       " 3.0476735830307007,\n",
       " 2.9976965188980103,\n",
       " 3.195258140563965,\n",
       " 3.1048697233200073,\n",
       " 3.0445332527160645,\n",
       " 3.0174431800842285,\n",
       " 3.020855665206909,\n",
       " 3.0273921489715576,\n",
       " 3.1198205947875977,\n",
       " 3.078001379966736,\n",
       " 2.9685871601104736,\n",
       " 3.094972014427185,\n",
       " 3.1172388792037964,\n",
       " 3.117343544960022,\n",
       " 3.058174252510071,\n",
       " 2.9949376583099365,\n",
       " 3.0390777587890625,\n",
       " 3.181252121925354,\n",
       " 3.1153513193130493,\n",
       " 3.0145195722579956,\n",
       " 2.9980493783950806,\n",
       " 3.0836806297302246,\n",
       " 3.183942437171936,\n",
       " 3.018437385559082,\n",
       " 3.1545798778533936,\n",
       " 3.015312671661377,\n",
       " 2.991776704788208,\n",
       " 2.954039216041565,\n",
       " 3.0364649295806885,\n",
       " 3.202910304069519,\n",
       " 3.1392523050308228,\n",
       " 3.030852437019348,\n",
       " 3.1769590377807617,\n",
       " 3.0573971271514893,\n",
       " 3.0855215787887573,\n",
       " 3.0484371185302734,\n",
       " 3.185115694999695,\n",
       " 2.9554392099380493,\n",
       " 2.965608596801758,\n",
       " 2.9771331548690796,\n",
       " 3.0152887105941772,\n",
       " 3.094173550605774,\n",
       " 3.061776638031006,\n",
       " 2.9765443801879883,\n",
       " 2.9110889434814453,\n",
       " 3.075158715248108,\n",
       " 3.0337389707565308,\n",
       " 3.0408849716186523,\n",
       " 3.0153640508651733,\n",
       " 2.94281268119812,\n",
       " 3.087358236312866,\n",
       " 2.90692937374115,\n",
       " 2.9598149061203003,\n",
       " 3.130726933479309,\n",
       " 3.074270248413086,\n",
       " 3.1096328496932983,\n",
       " 3.0768203735351562,\n",
       " 3.046998977661133]"
      ]
     },
     "execution_count": 41,
     "metadata": {},
     "output_type": "execute_result"
    }
   ],
   "source": [
    "average_mae_history = [\n",
    "    np.mean([x[i] for x in all_mae_histories]) for i in range(num_epochs)]\n",
    "average_mae_history"
   ]
  },
  {
   "cell_type": "markdown",
   "metadata": {},
   "source": [
    "Let's plot this:"
   ]
  },
  {
   "cell_type": "code",
   "execution_count": 42,
   "metadata": {},
   "outputs": [
    {
     "data": {
      "image/png": "[encoded data removed]",
      "text/plain": [
       "<Figure size 864x360 with 1 Axes>"
      ]
     },
     "metadata": {
      "needs_background": "light"
     },
     "output_type": "display_data"
    }
   ],
   "source": [
    "import matplotlib.pyplot as plt\n",
    "\n",
    "plt.figure(figsize=(12,5))\n",
    "plt.plot(range(1, len(average_mae_history) + 1), average_mae_history)\n",
    "plt.xlabel('Epochs')\n",
    "plt.ylabel('Validation MAE')\n",
    "plt.show()"
   ]
  },
  {
   "cell_type": "markdown",
   "metadata": {},
   "source": [
    "\n",
    "It may be a bit hard to see the plot due to scaling issues and relatively high variance. Let's:\n",
    "\n",
    "* Omit the first 10 data points, which are on a different scale from the rest of the curve.\n",
    "* Replace each point with an exponential moving average of the previous points, to obtain a smooth curve."
   ]
  },
  {
   "cell_type": "code",
   "execution_count": 43,
   "metadata": {},
   "outputs": [
    {
     "data": {
      "image/png": "[encoded data removed]",
      "text/plain": [
       "<Figure size 864x360 with 1 Axes>"
      ]
     },
     "metadata": {
      "needs_background": "light"
     },
     "output_type": "display_data"
    }
   ],
   "source": [
    "def smooth_curve(points, factor=0.9):\n",
    "  smoothed_points = []\n",
    "  for point in points:\n",
    "    if smoothed_points:\n",
    "      previous = smoothed_points[-1]\n",
    "      smoothed_points.append(previous * factor + point * (1 - factor))\n",
    "    else:\n",
    "      smoothed_points.append(point)\n",
    "  return smoothed_points\n",
    "\n",
    "smooth_mae_history = smooth_curve(average_mae_history[10:])\n",
    "\n",
    "plt.figure(figsize=(12,5))\n",
    "plt.plot(range(1, len(smooth_mae_history) + 1), smooth_mae_history)\n",
    "plt.xlabel('Epochs')\n",
    "plt.ylabel('Validation MAE')\n",
    "plt.show()"
   ]
  },
  {
   "cell_type": "markdown",
   "metadata": {},
   "source": [
    "\n",
    "According to this plot, it seems that validation MAE stops improving significantly after 80 epochs. Past that point, we start overfitting.\n",
    "\n",
    "Once we are done tuning other parameters of our model (besides the number of epochs, we could also adjust the size of the hidden layers), we \n",
    "can train a final \"production\" model on all of the training data, with the best parameters, then look at its performance on the test data:"
   ]
  },
  {
   "cell_type": "code",
   "execution_count": 44,
   "metadata": {},
   "outputs": [
    {
     "name": "stdout",
     "output_type": "stream",
     "text": [
      "102/102 [==============================] - 0s 244us/step\n"
     ]
    }
   ],
   "source": [
    "# Get a fresh, compiled model.\n",
    "model = build_model()\n",
    "# Train it on the entirety of the data.\n",
    "model.fit(train_data, train_targets,\n",
    "          epochs=80, batch_size=16, verbose=0)\n",
    "test_mse_score, test_mae_score = model.evaluate(test_data, test_targets)"
   ]
  },
  {
   "cell_type": "code",
   "execution_count": 45,
   "metadata": {},
   "outputs": [
    {
     "data": {
      "text/plain": [
       "2.6644253730773926"
      ]
     },
     "execution_count": 45,
     "metadata": {},
     "output_type": "execute_result"
    }
   ],
   "source": [
    "test_mae_score"
   ]
  },
  {
   "cell_type": "markdown",
   "metadata": {},
   "source": [
    "We are still off by about \\$2,550."
   ]
  },
  {
   "cell_type": "markdown",
   "metadata": {},
   "source": [
    "## Wrapping up\n",
    "\n",
    "\n",
    "Here's what you should take away from this example:\n",
    "\n",
    "* Regression is done using different loss functions from classification; Mean Squared Error (MSE) is a commonly used loss function for \n",
    "regression.\n",
    "* Similarly, evaluation metrics to be used for regression differ from those used for classification; naturally the concept of \"accuracy\" \n",
    "does not apply for regression. A common regression metric is Mean Absolute Error (MAE).\n",
    "* When features in the input data have values in different ranges, each feature should be scaled independently as a preprocessing step.\n",
    "* When there is little data available, using K-Fold validation is a great way to reliably evaluate a model.\n",
    "* When little training data is available, it is preferable to use a small network with very few hidden layers (typically only one or two), \n",
    "in order to avoid severe overfitting.\n",
    "\n",
    "This example concludes our series of three introductory practical examples. You are now able to handle common types of problems with vector data input:\n",
    "\n",
    "* Binary (2-class) classification.\n",
    "* Multi-class, single-label classification.\n",
    "* Scalar regression.\n",
    "\n",
    "In the next chapter, you will acquire a more formal understanding of some of the concepts you have encountered in these first examples, \n",
    "such as data preprocessing, model evaluation, and overfitting."
   ]
  }
 ],
 "metadata": {
  "kernelspec": {
   "display_name": "Python 3",
   "language": "python",
   "name": "python3"
  },
  "language_info": {
   "codemirror_mode": {
    "name": "ipython",
    "version": 3
   },
   "file_extension": ".py",
   "mimetype": "text/x-python",
   "name": "python",
   "nbconvert_exporter": "python",
   "pygments_lexer": "ipython3",
   "version": "3.6.7"
  }
 },
 "nbformat": 4,
 "nbformat_minor": 2
}
